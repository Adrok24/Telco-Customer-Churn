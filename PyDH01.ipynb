{
 "cells": [
  {
   "cell_type": "code",
   "execution_count": 19,
   "metadata": {},
   "outputs": [
    {
     "name": "stdout",
     "output_type": "stream",
     "text": [
      "Your selected dataframe has 21 columns and 7043 Rows.\n",
      "There are 21 columns that have missing values.\n",
      "+------------------+-----------------+---------------+------------------+---------------------+-------------------------------+---------------------------------+-------------+\n",
      "|                  |   Unique Values |   Zero Values |   Missing Values |   % of Total Values |   Total Zero / Missing Values |   % Total Zero / Missing Values | Data Type   |\n",
      "|------------------+-----------------+---------------+------------------+---------------------+-------------------------------+---------------------------------+-------------|\n",
      "| customerID       |            7043 |             0 |                0 |            0        |                             0 |                        0        | object      |\n",
      "| gender           |               2 |             0 |                0 |            0        |                             0 |                        0        | object      |\n",
      "| SeniorCitizen    |               2 |          5901 |                0 |            0        |                          5901 |                       83.7853   | int64       |\n",
      "| Partner          |               2 |             0 |                0 |            0        |                             0 |                        0        | object      |\n",
      "| Dependents       |               2 |             0 |                0 |            0        |                             0 |                        0        | object      |\n",
      "| tenure           |              73 |            11 |                0 |            0        |                            11 |                        0.156183 | int64       |\n",
      "| PhoneService     |               2 |             0 |                0 |            0        |                             0 |                        0        | object      |\n",
      "| MultipleLines    |               3 |             0 |                0 |            0        |                             0 |                        0        | object      |\n",
      "| InternetService  |               3 |             0 |                0 |            0        |                             0 |                        0        | object      |\n",
      "| OnlineSecurity   |               2 |             0 |                0 |            0        |                             0 |                        0        | object      |\n",
      "| OnlineBackup     |               2 |             0 |                0 |            0        |                             0 |                        0        | object      |\n",
      "| DeviceProtection |               2 |             0 |                0 |            0        |                             0 |                        0        | object      |\n",
      "| TechSupport      |               2 |             0 |                0 |            0        |                             0 |                        0        | object      |\n",
      "| StreamingTV      |               2 |             0 |                0 |            0        |                             0 |                        0        | object      |\n",
      "| StreamingMovies  |               2 |             0 |                0 |            0        |                             0 |                        0        | object      |\n",
      "| Contract         |               3 |             0 |                0 |            0        |                             0 |                        0        | object      |\n",
      "| PaperlessBilling |               2 |             0 |                0 |            0        |                             0 |                        0        | object      |\n",
      "| PaymentMethod    |               4 |             0 |                0 |            0        |                             0 |                        0        | object      |\n",
      "| MonthlyCharges   |            1585 |             8 |               23 |            0.326565 |                            31 |                        0.440153 | float64     |\n",
      "| TotalCharges     |            6521 |             9 |               15 |            0.212977 |                            24 |                        0.340764 | float64     |\n",
      "| Churn            |               2 |             0 |                0 |            0        |                             0 |                        0        | object      |\n",
      "+------------------+-----------------+---------------+------------------+---------------------+-------------------------------+---------------------------------+-------------+\n"
     ]
    }
   ],
   "source": [
    "import pandas as pd\n",
    "import numpy as np\n",
    "from tabulate import tabulate\n",
    "\n",
    "def missing_zero_values_table(df):\n",
    "    zero_val = (df == 0.00).astype(int).sum(axis=0)\n",
    "    unique_val = data.nunique()\n",
    "    mis_val = df.isnull().sum()\n",
    "    mis_val_percent = 100 * df.isnull().sum() / len(df)\n",
    "    mz_table = pd.concat([unique_val, zero_val, mis_val, mis_val_percent], axis=1)\n",
    "    mz_table = mz_table.rename(\n",
    "        columns={0: 'Unique Values', 1: 'Zero Values', 2: 'Missing Values', 3: '% of Total Values'})\n",
    "    mz_table['Total Zero / Missing Values'] = mz_table['Zero Values'] + mz_table['Missing Values']\n",
    "    mz_table['% Total Zero / Missing Values'] = 100 * mz_table['Total Zero / Missing Values'] / len(df)\n",
    "    mz_table['Data Type'] = df.dtypes\n",
    "    # This shows only the zero value rows\n",
    "    #mz_table = mz_table[\n",
    "    #    mz_table.iloc[:, 1] != 0].sort_values(\n",
    "    #    '% of Total Values', ascending=False).round(1)\n",
    "    print(\"Your selected dataframe has \" + str(df.shape[1]) + \" columns and \" + str(df.shape[0]) + \" Rows.\\n\"\n",
    "                                                                                                   \"There are \" + str(\n",
    "        mz_table.shape[0]) +\n",
    "          \" columns that have missing values.\")\n",
    "    #         mz_table.to_excel('D:/sampledata/missing_and_zero_values.xlsx', freeze_panes=(1,0), index = False)\n",
    "    return mz_table\n",
    "\n",
    "def normalize_data(df,column,replaced,replacement):\n",
    "    for i in column: df[i] = df[i].replace(\n",
    "                        to_replace=[replaced],\n",
    "                        value=[replacement])\n",
    "\n",
    "\n",
    "############################ START CODE ######################################\n",
    "\n",
    "# Import Data\n",
    "data = pd.read_csv('WA_Fn-UseC_-Telco-Customer-Churn.csv',\n",
    "                   converters={'SeniorCitizen': lambda x: pd.to_numeric(x, errors='coerce'),\n",
    "                                'tenure': lambda x: pd.to_numeric(x, errors='coerce'),\n",
    "                                'MonthlyCharges': lambda x: pd.to_numeric(x, errors='coerce'),\n",
    "                               'TotalCharges': lambda x: pd.to_numeric(x, errors='coerce'),\n",
    "                               })\n",
    "\n",
    "# Normalize values to Yes / No\n",
    "normalize_data(data, ['OnlineSecurity', 'OnlineBackup', 'DeviceProtection', 'TechSupport', 'StreamingTV', 'StreamingMovies'], 'No internet service', 'No')\n",
    "\n",
    "# Validation of NULL & Zero\n",
    "r = missing_zero_values_table(data)\n",
    "print(tabulate(r, headers='keys', tablefmt='psql'))"
   ]
  },
  {
   "cell_type": "code",
   "execution_count": 4,
   "metadata": {},
   "outputs": [
    {
     "data": {
      "text/html": [
       "<div>\n",
       "<style scoped>\n",
       "    .dataframe tbody tr th:only-of-type {\n",
       "        vertical-align: middle;\n",
       "    }\n",
       "\n",
       "    .dataframe tbody tr th {\n",
       "        vertical-align: top;\n",
       "    }\n",
       "\n",
       "    .dataframe thead th {\n",
       "        text-align: right;\n",
       "    }\n",
       "</style>\n",
       "<table border=\"1\" class=\"dataframe\">\n",
       "  <thead>\n",
       "    <tr style=\"text-align: right;\">\n",
       "      <th></th>\n",
       "      <th>SeniorCitizen</th>\n",
       "      <th>tenure</th>\n",
       "      <th>MonthlyCharges</th>\n",
       "      <th>TotalCharges</th>\n",
       "    </tr>\n",
       "  </thead>\n",
       "  <tbody>\n",
       "    <tr>\n",
       "      <th>count</th>\n",
       "      <td>7043.000000</td>\n",
       "      <td>7043.000000</td>\n",
       "      <td>7020.000000</td>\n",
       "      <td>7028.000000</td>\n",
       "    </tr>\n",
       "    <tr>\n",
       "      <th>mean</th>\n",
       "      <td>0.162147</td>\n",
       "      <td>32.371149</td>\n",
       "      <td>64.669266</td>\n",
       "      <td>2278.853920</td>\n",
       "    </tr>\n",
       "    <tr>\n",
       "      <th>std</th>\n",
       "      <td>0.368612</td>\n",
       "      <td>24.559481</td>\n",
       "      <td>30.146503</td>\n",
       "      <td>2264.843268</td>\n",
       "    </tr>\n",
       "    <tr>\n",
       "      <th>min</th>\n",
       "      <td>0.000000</td>\n",
       "      <td>0.000000</td>\n",
       "      <td>0.000000</td>\n",
       "      <td>0.000000</td>\n",
       "    </tr>\n",
       "    <tr>\n",
       "      <th>25%</th>\n",
       "      <td>0.000000</td>\n",
       "      <td>9.000000</td>\n",
       "      <td>35.400000</td>\n",
       "      <td>399.400000</td>\n",
       "    </tr>\n",
       "    <tr>\n",
       "      <th>50%</th>\n",
       "      <td>0.000000</td>\n",
       "      <td>29.000000</td>\n",
       "      <td>70.325000</td>\n",
       "      <td>1394.800000</td>\n",
       "    </tr>\n",
       "    <tr>\n",
       "      <th>75%</th>\n",
       "      <td>0.000000</td>\n",
       "      <td>55.000000</td>\n",
       "      <td>89.850000</td>\n",
       "      <td>3785.300000</td>\n",
       "    </tr>\n",
       "    <tr>\n",
       "      <th>max</th>\n",
       "      <td>1.000000</td>\n",
       "      <td>72.000000</td>\n",
       "      <td>118.750000</td>\n",
       "      <td>8684.800000</td>\n",
       "    </tr>\n",
       "  </tbody>\n",
       "</table>\n",
       "</div>"
      ],
      "text/plain": [
       "       SeniorCitizen       tenure  MonthlyCharges  TotalCharges\n",
       "count    7043.000000  7043.000000     7020.000000   7028.000000\n",
       "mean        0.162147    32.371149       64.669266   2278.853920\n",
       "std         0.368612    24.559481       30.146503   2264.843268\n",
       "min         0.000000     0.000000        0.000000      0.000000\n",
       "25%         0.000000     9.000000       35.400000    399.400000\n",
       "50%         0.000000    29.000000       70.325000   1394.800000\n",
       "75%         0.000000    55.000000       89.850000   3785.300000\n",
       "max         1.000000    72.000000      118.750000   8684.800000"
      ]
     },
     "execution_count": 4,
     "metadata": {},
     "output_type": "execute_result"
    }
   ],
   "source": [
    "data.describe()"
   ]
  },
  {
   "cell_type": "code",
   "execution_count": 5,
   "metadata": {},
   "outputs": [],
   "source": [
    "from sklearn.model_selection import train_test_split\n",
    "from sklearn.preprocessing import LabelEncoder\n",
    "from sklearn import preprocessing"
   ]
  },
  {
   "cell_type": "code",
   "execution_count": 14,
   "metadata": {},
   "outputs": [],
   "source": [
    "min_max_scaler = preprocessing.MinMaxScaler()\n",
    "\n",
    "data = data.dropna()\n",
    "X = pd.get_dummies(data.drop('Churn', axis=1))\n",
    "x_scaled = x_scaled = min_max_scaler.fit_transform(X)\n",
    "X = pd.DataFrame(x_scaled)\n",
    "\n",
    "lab_enc = LabelEncoder()\n",
    "y = lab_enc.fit_transform(data['Churn'])"
   ]
  },
  {
   "cell_type": "code",
   "execution_count": 15,
   "metadata": {},
   "outputs": [
    {
     "data": {
      "text/html": [
       "<div>\n",
       "<style scoped>\n",
       "    .dataframe tbody tr th:only-of-type {\n",
       "        vertical-align: middle;\n",
       "    }\n",
       "\n",
       "    .dataframe tbody tr th {\n",
       "        vertical-align: top;\n",
       "    }\n",
       "\n",
       "    .dataframe thead th {\n",
       "        text-align: right;\n",
       "    }\n",
       "</style>\n",
       "<table border=\"1\" class=\"dataframe\">\n",
       "  <thead>\n",
       "    <tr style=\"text-align: right;\">\n",
       "      <th></th>\n",
       "      <th>0</th>\n",
       "      <th>1</th>\n",
       "      <th>2</th>\n",
       "      <th>3</th>\n",
       "      <th>4</th>\n",
       "      <th>5</th>\n",
       "      <th>6</th>\n",
       "      <th>7</th>\n",
       "      <th>8</th>\n",
       "      <th>9</th>\n",
       "      <th>...</th>\n",
       "      <th>7038</th>\n",
       "      <th>7039</th>\n",
       "      <th>7040</th>\n",
       "      <th>7041</th>\n",
       "      <th>7042</th>\n",
       "      <th>7043</th>\n",
       "      <th>7044</th>\n",
       "      <th>7045</th>\n",
       "      <th>7046</th>\n",
       "      <th>7047</th>\n",
       "    </tr>\n",
       "  </thead>\n",
       "  <tbody>\n",
       "    <tr>\n",
       "      <th>0</th>\n",
       "      <td>0.0</td>\n",
       "      <td>0.000000</td>\n",
       "      <td>0.251368</td>\n",
       "      <td>0.001275</td>\n",
       "      <td>0.0</td>\n",
       "      <td>0.0</td>\n",
       "      <td>0.0</td>\n",
       "      <td>0.0</td>\n",
       "      <td>0.0</td>\n",
       "      <td>0.0</td>\n",
       "      <td>...</td>\n",
       "      <td>0.0</td>\n",
       "      <td>1.0</td>\n",
       "      <td>0.0</td>\n",
       "      <td>0.0</td>\n",
       "      <td>0.0</td>\n",
       "      <td>1.0</td>\n",
       "      <td>0.0</td>\n",
       "      <td>0.0</td>\n",
       "      <td>1.0</td>\n",
       "      <td>0.0</td>\n",
       "    </tr>\n",
       "    <tr>\n",
       "      <th>1</th>\n",
       "      <td>0.0</td>\n",
       "      <td>0.464789</td>\n",
       "      <td>0.479579</td>\n",
       "      <td>0.215867</td>\n",
       "      <td>0.0</td>\n",
       "      <td>0.0</td>\n",
       "      <td>0.0</td>\n",
       "      <td>0.0</td>\n",
       "      <td>0.0</td>\n",
       "      <td>0.0</td>\n",
       "      <td>...</td>\n",
       "      <td>0.0</td>\n",
       "      <td>0.0</td>\n",
       "      <td>1.0</td>\n",
       "      <td>0.0</td>\n",
       "      <td>1.0</td>\n",
       "      <td>0.0</td>\n",
       "      <td>0.0</td>\n",
       "      <td>0.0</td>\n",
       "      <td>0.0</td>\n",
       "      <td>1.0</td>\n",
       "    </tr>\n",
       "    <tr>\n",
       "      <th>2</th>\n",
       "      <td>0.0</td>\n",
       "      <td>0.014085</td>\n",
       "      <td>0.453474</td>\n",
       "      <td>0.010310</td>\n",
       "      <td>0.0</td>\n",
       "      <td>0.0</td>\n",
       "      <td>0.0</td>\n",
       "      <td>0.0</td>\n",
       "      <td>0.0</td>\n",
       "      <td>0.0</td>\n",
       "      <td>...</td>\n",
       "      <td>0.0</td>\n",
       "      <td>1.0</td>\n",
       "      <td>0.0</td>\n",
       "      <td>0.0</td>\n",
       "      <td>0.0</td>\n",
       "      <td>1.0</td>\n",
       "      <td>0.0</td>\n",
       "      <td>0.0</td>\n",
       "      <td>0.0</td>\n",
       "      <td>1.0</td>\n",
       "    </tr>\n",
       "    <tr>\n",
       "      <th>3</th>\n",
       "      <td>0.0</td>\n",
       "      <td>0.619718</td>\n",
       "      <td>0.356211</td>\n",
       "      <td>0.210241</td>\n",
       "      <td>0.0</td>\n",
       "      <td>0.0</td>\n",
       "      <td>0.0</td>\n",
       "      <td>0.0</td>\n",
       "      <td>0.0</td>\n",
       "      <td>0.0</td>\n",
       "      <td>...</td>\n",
       "      <td>0.0</td>\n",
       "      <td>0.0</td>\n",
       "      <td>1.0</td>\n",
       "      <td>0.0</td>\n",
       "      <td>1.0</td>\n",
       "      <td>0.0</td>\n",
       "      <td>1.0</td>\n",
       "      <td>0.0</td>\n",
       "      <td>0.0</td>\n",
       "      <td>0.0</td>\n",
       "    </tr>\n",
       "    <tr>\n",
       "      <th>4</th>\n",
       "      <td>0.0</td>\n",
       "      <td>0.014085</td>\n",
       "      <td>0.595368</td>\n",
       "      <td>0.015330</td>\n",
       "      <td>0.0</td>\n",
       "      <td>0.0</td>\n",
       "      <td>0.0</td>\n",
       "      <td>0.0</td>\n",
       "      <td>0.0</td>\n",
       "      <td>0.0</td>\n",
       "      <td>...</td>\n",
       "      <td>0.0</td>\n",
       "      <td>1.0</td>\n",
       "      <td>0.0</td>\n",
       "      <td>0.0</td>\n",
       "      <td>0.0</td>\n",
       "      <td>1.0</td>\n",
       "      <td>0.0</td>\n",
       "      <td>0.0</td>\n",
       "      <td>1.0</td>\n",
       "      <td>0.0</td>\n",
       "    </tr>\n",
       "  </tbody>\n",
       "</table>\n",
       "<p>5 rows × 7048 columns</p>\n",
       "</div>"
      ],
      "text/plain": [
       "   0         1         2         3     4     5     6     7     8     9     \\\n",
       "0   0.0  0.000000  0.251368  0.001275   0.0   0.0   0.0   0.0   0.0   0.0   \n",
       "1   0.0  0.464789  0.479579  0.215867   0.0   0.0   0.0   0.0   0.0   0.0   \n",
       "2   0.0  0.014085  0.453474  0.010310   0.0   0.0   0.0   0.0   0.0   0.0   \n",
       "3   0.0  0.619718  0.356211  0.210241   0.0   0.0   0.0   0.0   0.0   0.0   \n",
       "4   0.0  0.014085  0.595368  0.015330   0.0   0.0   0.0   0.0   0.0   0.0   \n",
       "\n",
       "   ...  7038  7039  7040  7041  7042  7043  7044  7045  7046  7047  \n",
       "0  ...   0.0   1.0   0.0   0.0   0.0   1.0   0.0   0.0   1.0   0.0  \n",
       "1  ...   0.0   0.0   1.0   0.0   1.0   0.0   0.0   0.0   0.0   1.0  \n",
       "2  ...   0.0   1.0   0.0   0.0   0.0   1.0   0.0   0.0   0.0   1.0  \n",
       "3  ...   0.0   0.0   1.0   0.0   1.0   0.0   1.0   0.0   0.0   0.0  \n",
       "4  ...   0.0   1.0   0.0   0.0   0.0   1.0   0.0   0.0   1.0   0.0  \n",
       "\n",
       "[5 rows x 7048 columns]"
      ]
     },
     "metadata": {},
     "output_type": "display_data"
    },
    {
     "data": {
      "text/plain": [
       "array([0, 0, 1, ..., 0, 1, 0])"
      ]
     },
     "metadata": {},
     "output_type": "display_data"
    },
    {
     "name": "stdout",
     "output_type": "stream",
     "text": [
      "X: (7009, 7048)\n",
      "y:(7009,)\n"
     ]
    }
   ],
   "source": [
    "display(X.head(), y)\n",
    "print(f\"X: {X.shape}\\ny:{y.shape}\")"
   ]
  },
  {
   "cell_type": "code",
   "execution_count": 16,
   "metadata": {},
   "outputs": [
    {
     "name": "stdout",
     "output_type": "stream",
     "text": [
      "Rendimiento de DecisionTreeClassifier   :  0.768 ± 0.008\n"
     ]
    }
   ],
   "source": [
    "from sklearn.tree import DecisionTreeClassifier\n",
    "from sklearn.model_selection import cross_val_score,StratifiedKFold\n",
    "\n",
    "skd = StratifiedKFold(n_splits=4, random_state=41, shuffle=True)\n",
    "\n",
    "def evaluar(modelo):\n",
    "    s = cross_val_score(modelo, X, y, cv=skd, n_jobs=-1)\n",
    "    print(f\"Rendimiento de {modelo.__class__.__name__:<25}:  {s.mean():0.3f} ± {s.std():0.3f}\")\n",
    "\n",
    "evaluar(DecisionTreeClassifier())"
   ]
  },
  {
   "cell_type": "code",
   "execution_count": 17,
   "metadata": {},
   "outputs": [
    {
     "name": "stdout",
     "output_type": "stream",
     "text": [
      "Rendimiento de DecisionTreeClassifier   :  0.770 ± 0.007\n",
      "Rendimiento de BaggingClassifier        :  0.798 ± 0.002\n",
      "Rendimiento de RandomForestClassifier   :  0.791 ± 0.005\n",
      "Rendimiento de ExtraTreesClassifier     :  0.782 ± 0.003\n"
     ]
    }
   ],
   "source": [
    "from sklearn.ensemble import BaggingClassifier, RandomForestClassifier, ExtraTreesClassifier\n",
    "\n",
    "evaluar(DecisionTreeClassifier())\n",
    "evaluar(BaggingClassifier(DecisionTreeClassifier(), n_estimators=100))\n",
    "evaluar(RandomForestClassifier(n_estimators=100))\n",
    "evaluar(ExtraTreesClassifier(n_estimators=100))"
   ]
  },
  {
   "cell_type": "code",
   "execution_count": 22,
   "metadata": {},
   "outputs": [],
   "source": [
    "from sklearn.model_selection import GridSearchCV\n",
    "\n",
    "param_grid = {'n_estimators': [50, 100, 200], \n",
    "              'max_features': [1, 5, 8, 10, 21], \n",
    "              'max_depth': [5, 20, 50, 70, 100], \n",
    "              'min_samples_leaf':[1, 5, 8, 10, 50]}\n",
    "\n",
    "grid_search = GridSearchCV(RandomForestClassifier(), param_grid=param_grid, cv=skd, verbose=1, n_jobs=-1)"
   ]
  },
  {
   "cell_type": "code",
   "execution_count": 23,
   "metadata": {},
   "outputs": [
    {
     "name": "stdout",
     "output_type": "stream",
     "text": [
      "Fitting 4 folds for each of 375 candidates, totalling 1500 fits\n"
     ]
    },
    {
     "name": "stderr",
     "output_type": "stream",
     "text": [
      "[Parallel(n_jobs=-1)]: Using backend LokyBackend with 16 concurrent workers.\n",
      "[Parallel(n_jobs=-1)]: Done  18 tasks      | elapsed:    5.6s\n",
      "[Parallel(n_jobs=-1)]: Done 168 tasks      | elapsed:   25.0s\n",
      "[Parallel(n_jobs=-1)]: Done 418 tasks      | elapsed:   58.7s\n",
      "[Parallel(n_jobs=-1)]: Done 768 tasks      | elapsed:  1.8min\n",
      "[Parallel(n_jobs=-1)]: Done 1218 tasks      | elapsed:  3.5min\n",
      "[Parallel(n_jobs=-1)]: Done 1500 out of 1500 | elapsed:  5.1min finished\n"
     ]
    },
    {
     "data": {
      "text/plain": [
       "RandomForestClassifier(max_depth=100, max_features=21)"
      ]
     },
     "metadata": {},
     "output_type": "display_data"
    },
    {
     "name": "stdout",
     "output_type": "stream",
     "text": [
      "Wall time: 5min 20s\n"
     ]
    }
   ],
   "source": [
    "%%time\n",
    "grid_search.fit(X, y)\n",
    "display(grid_search.best_estimator_)"
   ]
  },
  {
   "cell_type": "code",
   "execution_count": 24,
   "metadata": {},
   "outputs": [
    {
     "data": {
      "text/plain": [
       "0.7916962148384895"
      ]
     },
     "execution_count": 24,
     "metadata": {},
     "output_type": "execute_result"
    }
   ],
   "source": [
    "grid_search.best_score_"
   ]
  }
 ],
 "metadata": {
  "kernelspec": {
   "display_name": "Python 3",
   "language": "python",
   "name": "python3"
  },
  "language_info": {
   "codemirror_mode": {
    "name": "ipython",
    "version": 3
   },
   "file_extension": ".py",
   "mimetype": "text/x-python",
   "name": "python",
   "nbconvert_exporter": "python",
   "pygments_lexer": "ipython3",
   "version": "3.8.3"
  }
 },
 "nbformat": 4,
 "nbformat_minor": 4
}
